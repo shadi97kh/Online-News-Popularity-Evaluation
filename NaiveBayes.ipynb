{
 "cells": [
  {
   "cell_type": "code",
   "execution_count": 47,
   "metadata": {},
   "outputs": [],
   "source": [
    "import pandas as pd\n",
    "import numpy as np\n",
    "import matplotlib.pyplot as pld\n",
    "from sklearn.model_selection import train_test_split\n",
    "from sklearn.naive_bayes import GaussianNB\n",
    "from sklearn.metrics import classification_report, confusion_matrix, accuracy_score"
   ]
  },
  {
   "cell_type": "code",
   "execution_count": 48,
   "metadata": {},
   "outputs": [],
   "source": [
    "df = pd.read_csv(\"data\\OnlineNewsPopularity.csv\")\n",
    "df.columns=df.columns.str.replace(' ','')\n",
    "df[\"popularity\"]=df['shares'].apply(lambda x:0 if x<1400 else 1)\n",
    "X = df.drop(['url','timedelta','shares','popularity'], axis=1)\n",
    "y = df['popularity']\n",
    "X_train, X_test, y_train, y_test = train_test_split(X,y, test_size = 0.3, random_state = 0)\n"
   ]
  },
  {
   "cell_type": "code",
   "execution_count": 49,
   "metadata": {},
   "outputs": [
    {
     "name": "stdout",
     "output_type": "stream",
     "text": [
      "Confusion Matrix:\n",
      "[[5036  549]\n",
      " [5062 1247]]\n",
      "Classification Report:\n",
      "              precision    recall  f1-score   support\n",
      "\n",
      "           0       0.50      0.90      0.64      5585\n",
      "           1       0.69      0.20      0.31      6309\n",
      "\n",
      "    accuracy                           0.53     11894\n",
      "   macro avg       0.60      0.55      0.47     11894\n",
      "weighted avg       0.60      0.53      0.46     11894\n",
      "\n",
      "Accuracy: 0.5282495375819741\n"
     ]
    }
   ],
   "source": [
    "nb = GaussianNB()\n",
    "NaiveBayesModel = nb.fit(X_train, y_train)\n",
    "y_predict = nb.predict(X_test)\n",
    "result = confusion_matrix(y_test, y_predict)\n",
    "print(\"Confusion Matrix:\")\n",
    "print(result)\n",
    "result1 = classification_report(y_test, y_predict)\n",
    "print(\"Classification Report:\",)\n",
    "print (result1)\n",
    "result2 = accuracy_score(y_test,y_predict)\n",
    "print(\"Accuracy:\",result2)"
   ]
  },
  {
   "cell_type": "code",
   "execution_count": 50,
   "metadata": {},
   "outputs": [
    {
     "name": "stdout",
     "output_type": "stream",
     "text": [
      "Confusion Matrix:\n",
      "[[4229 1356]\n",
      " [3586 2723]]\n",
      "Classification Report:\n",
      "              precision    recall  f1-score   support\n",
      "\n",
      "           0       0.54      0.76      0.63      5585\n",
      "           1       0.67      0.43      0.52      6309\n",
      "\n",
      "    accuracy                           0.58     11894\n",
      "   macro avg       0.60      0.59      0.58     11894\n",
      "weighted avg       0.61      0.58      0.57     11894\n",
      "\n",
      "Accuracy: 0.5844963847317975\n"
     ]
    }
   ],
   "source": [
    "X=df[['n_tokens_title','n_tokens_content','data_channel_is_lifestyle','data_channel_is_bus','data_channel_is_entertainment','data_channel_is_socmed','data_channel_is_tech','data_channel_is_world',\"num_imgs\",'num_videos',\n",
    "     'weekday_is_monday','weekday_is_tuesday','weekday_is_wednesday','weekday_is_thursday','weekday_is_friday','weekday_is_saturday','weekday_is_sunday']]\n",
    "y = df['popularity']\n",
    "X_train, X_test, y_train, y_test = train_test_split(X,y, test_size = 0.3, random_state = 0)\n",
    "\n",
    "\n",
    "nb = GaussianNB()\n",
    "NaiveBayesModel = nb.fit(X_train, y_train)\n",
    "y_predict = nb.predict(X_test)\n",
    "result = confusion_matrix(y_test, y_predict)\n",
    "print(\"Confusion Matrix:\")\n",
    "print(result)\n",
    "result1 = classification_report(y_test, y_predict)\n",
    "print(\"Classification Report:\",)\n",
    "print (result1)\n",
    "result2 = accuracy_score(y_test,y_predict)\n",
    "print(\"Accuracy:\",result2)"
   ]
  },
  {
   "cell_type": "code",
   "execution_count": 56,
   "metadata": {},
   "outputs": [
    {
     "name": "stdout",
     "output_type": "stream",
     "text": [
      "Confusion Matrix:\n",
      "[[4306 1279]\n",
      " [3929 2380]]\n",
      "Classification Report:\n",
      "              precision    recall  f1-score   support\n",
      "\n",
      "           0       0.52      0.77      0.62      5585\n",
      "           1       0.65      0.38      0.48      6309\n",
      "\n",
      "    accuracy                           0.56     11894\n",
      "   macro avg       0.59      0.57      0.55     11894\n",
      "weighted avg       0.59      0.56      0.55     11894\n",
      "\n",
      "Accuracy: 0.5621321674794014\n"
     ]
    }
   ],
   "source": [
    "X=df[['kw_avg_avg','LDA_03','kw_max_avg','kw_min_avg','num_hrefs','kw_avg_max','global_subjectivity','abs_title_sentiment_polarity','weekday_is_sunday','title_subjectivity']]\n",
    "y = df['popularity']\n",
    "X_train, X_test, y_train, y_test = train_test_split(X,y, test_size = 0.3, random_state = 0)\n",
    "\n",
    "\n",
    "nb = GaussianNB()\n",
    "NaiveBayesModel = nb.fit(X_train, y_train)\n",
    "y_predict = nb.predict(X_test)\n",
    "result = confusion_matrix(y_test, y_predict)\n",
    "print(\"Confusion Matrix:\")\n",
    "print(result)\n",
    "result1 = classification_report(y_test, y_predict)\n",
    "print(\"Classification Report:\",)\n",
    "print (result1)\n",
    "result2 = accuracy_score(y_test,y_predict)\n",
    "print(\"Accuracy:\",result2)\n",
    "\n",
    "\n"
   ]
  },
  {
   "cell_type": "code",
   "execution_count": 58,
   "metadata": {},
   "outputs": [
    {
     "name": "stdout",
     "output_type": "stream",
     "text": [
      "Confusion Matrix:\n",
      "[[3957 1628]\n",
      " [2901 3408]]\n",
      "Classification Report:\n",
      "              precision    recall  f1-score   support\n",
      "\n",
      "           0       0.58      0.71      0.64      5585\n",
      "           1       0.68      0.54      0.60      6309\n",
      "\n",
      "    accuracy                           0.62     11894\n",
      "   macro avg       0.63      0.62      0.62     11894\n",
      "weighted avg       0.63      0.62      0.62     11894\n",
      "\n",
      "Accuracy: 0.6192197746763074\n"
     ]
    }
   ],
   "source": [
    "X=df[['n_tokens_title','n_tokens_content','data_channel_is_lifestyle','data_channel_is_bus','data_channel_is_entertainment','data_channel_is_socmed','data_channel_is_tech','data_channel_is_world',\"num_imgs\",'num_videos',\n",
    "     'weekday_is_monday','weekday_is_tuesday','weekday_is_wednesday','weekday_is_thursday','weekday_is_friday','weekday_is_saturday','weekday_is_sunday','global_rate_positive_words','global_rate_negative_words',\n",
    "     'LDA_00','LDA_01','LDA_02','LDA_03','LDA_04','kw_avg_avg','kw_max_avg','kw_min_avg','num_hrefs']]\n",
    "y = df['popularity']\n",
    "X_train, X_test, y_train, y_test = train_test_split(X,y, test_size = 0.3, random_state = 0)\n",
    "\n",
    "\n",
    "nb = GaussianNB()\n",
    "NaiveBayesModel = nb.fit(X_train, y_train)\n",
    "y_predict = nb.predict(X_test)\n",
    "result = confusion_matrix(y_test, y_predict)\n",
    "print(\"Confusion Matrix:\")\n",
    "print(result)\n",
    "result1 = classification_report(y_test, y_predict)\n",
    "print(\"Classification Report:\",)\n",
    "print (result1)\n",
    "result2 = accuracy_score(y_test,y_predict)\n",
    "print(\"Accuracy:\",result2)"
   ]
  },
  {
   "cell_type": "code",
   "execution_count": null,
   "metadata": {},
   "outputs": [],
   "source": []
  }
 ],
 "metadata": {
  "kernelspec": {
   "display_name": "Python 3",
   "language": "python",
   "name": "python3"
  },
  "language_info": {
   "codemirror_mode": {
    "name": "ipython",
    "version": 3
   },
   "file_extension": ".py",
   "mimetype": "text/x-python",
   "name": "python",
   "nbconvert_exporter": "python",
   "pygments_lexer": "ipython3",
   "version": "3.7.7"
  }
 },
 "nbformat": 4,
 "nbformat_minor": 4
}

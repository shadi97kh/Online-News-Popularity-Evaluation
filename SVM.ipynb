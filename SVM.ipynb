{
 "cells": [
  {
   "cell_type": "code",
   "execution_count": 60,
   "metadata": {},
   "outputs": [],
   "source": [
    "import pandas as pd\n",
    "import numpy as np\n",
    "import matplotlib.pyplot as pld\n",
    "from sklearn.model_selection import train_test_split\n",
    "from sklearn import svm\n",
    "from sklearn.metrics import classification_report, confusion_matrix, accuracy_score"
   ]
  },
  {
   "cell_type": "code",
   "execution_count": 61,
   "metadata": {},
   "outputs": [],
   "source": [
    "df = pd.read_csv(\"data\\OnlineNewsPopularity.csv\")\n",
    "df.columns=df.columns.str.replace(' ','')\n",
    "df[\"popularity\"]=df['shares'].apply(lambda x:0 if x<1400 else 1)\n",
    "X = df.drop(['url','timedelta','shares','popularity'], axis=1)\n",
    "y = df['popularity']\n",
    "X_train, X_test, y_train, y_test = train_test_split(X,y, test_size = 0.3, random_state = 0)\n"
   ]
  },
  {
   "cell_type": "code",
   "execution_count": 72,
   "metadata": {},
   "outputs": [
    {
     "name": "stdout",
     "output_type": "stream",
     "text": [
      "Confusion Matrix:\n",
      "[[5171  414]\n",
      " [5694  615]]\n",
      "Classification Report:\n",
      "              precision    recall  f1-score   support\n",
      "\n",
      "           0       0.48      0.93      0.63      5585\n",
      "           1       0.60      0.10      0.17      6309\n",
      "\n",
      "    accuracy                           0.49     11894\n",
      "   macro avg       0.54      0.51      0.40     11894\n",
      "weighted avg       0.54      0.49      0.38     11894\n",
      "\n",
      "Accuracy: 0.4864637632419707\n"
     ]
    },
    {
     "name": "stderr",
     "output_type": "stream",
     "text": [
      "C:\\Users\\Mahta\\Anaconda3\\lib\\site-packages\\sklearn\\svm\\_base.py:947: ConvergenceWarning: Liblinear failed to converge, increase the number of iterations.\n",
      "  \"the number of iterations.\", ConvergenceWarning)\n"
     ]
    }
   ],
   "source": [
    "supportVectorMachine = svm.LinearSVC()\n",
    "svmModel = supportVectorMachine.fit(X_train, y_train)\n",
    "y_predict = supportVectorMachine.predict(X_test)\n",
    "result = confusion_matrix(y_test, y_predict)\n",
    "print(\"Confusion Matrix:\")\n",
    "print(result)\n",
    "result1 = classification_report(y_test, y_predict)\n",
    "print(\"Classification Report:\",)\n",
    "print (result1)\n",
    "result2 = accuracy_score(y_test,y_predict)\n",
    "print(\"Accuracy:\",result2)\n"
   ]
  },
  {
   "cell_type": "code",
   "execution_count": 67,
   "metadata": {},
   "outputs": [
    {
     "name": "stdout",
     "output_type": "stream",
     "text": [
      "Confusion Matrix:\n",
      "[[5430  155]\n",
      " [6040  269]]\n",
      "Classification Report:\n",
      "              precision    recall  f1-score   support\n",
      "\n",
      "           0       0.47      0.97      0.64      5585\n",
      "           1       0.63      0.04      0.08      6309\n",
      "\n",
      "    accuracy                           0.48     11894\n",
      "   macro avg       0.55      0.51      0.36     11894\n",
      "weighted avg       0.56      0.48      0.34     11894\n",
      "\n",
      "Accuracy: 0.47914915083235243\n"
     ]
    },
    {
     "name": "stderr",
     "output_type": "stream",
     "text": [
      "C:\\Users\\Mahta\\Anaconda3\\lib\\site-packages\\sklearn\\svm\\_base.py:947: ConvergenceWarning: Liblinear failed to converge, increase the number of iterations.\n",
      "  \"the number of iterations.\", ConvergenceWarning)\n"
     ]
    }
   ],
   "source": [
    "X=df[['n_tokens_title','n_tokens_content','data_channel_is_lifestyle','data_channel_is_bus','data_channel_is_entertainment','data_channel_is_socmed','data_channel_is_tech','data_channel_is_world',\"num_imgs\",'num_videos',\n",
    "     'weekday_is_monday','weekday_is_tuesday','weekday_is_wednesday','weekday_is_thursday','weekday_is_friday','weekday_is_saturday','weekday_is_sunday']]\n",
    "y = df['popularity']\n",
    "X_train, X_test, y_train, y_test = train_test_split(X,y, test_size = 0.3, random_state = 0)\n",
    "supportVectorMachine = svm.LinearSVC()\n",
    "svmModel = supportVectorMachine.fit(X_train, y_train)\n",
    "y_predict = supportVectorMachine.predict(X_test)\n",
    "result = confusion_matrix(y_test, y_predict)\n",
    "print(\"Confusion Matrix:\")\n",
    "print(result)\n",
    "result1 = classification_report(y_test, y_predict)\n",
    "print(\"Classification Report:\",)\n",
    "print (result1)\n",
    "result2 = accuracy_score(y_test,y_predict)\n",
    "print(\"Accuracy:\",result2)\n"
   ]
  },
  {
   "cell_type": "code",
   "execution_count": 68,
   "metadata": {},
   "outputs": [
    {
     "name": "stdout",
     "output_type": "stream",
     "text": [
      "Confusion Matrix:\n",
      "[[5498   87]\n",
      " [6153  156]]\n",
      "Classification Report:\n",
      "              precision    recall  f1-score   support\n",
      "\n",
      "           0       0.47      0.98      0.64      5585\n",
      "           1       0.64      0.02      0.05      6309\n",
      "\n",
      "    accuracy                           0.48     11894\n",
      "   macro avg       0.56      0.50      0.34     11894\n",
      "weighted avg       0.56      0.48      0.32     11894\n",
      "\n",
      "Accuracy: 0.47536573062048093\n"
     ]
    },
    {
     "name": "stderr",
     "output_type": "stream",
     "text": [
      "C:\\Users\\Mahta\\Anaconda3\\lib\\site-packages\\sklearn\\svm\\_base.py:947: ConvergenceWarning: Liblinear failed to converge, increase the number of iterations.\n",
      "  \"the number of iterations.\", ConvergenceWarning)\n"
     ]
    }
   ],
   "source": [
    "X=df[['n_tokens_title','n_tokens_content','data_channel_is_lifestyle','data_channel_is_bus','data_channel_is_entertainment','data_channel_is_socmed','data_channel_is_tech','data_channel_is_world',\"num_imgs\",'num_videos',\n",
    "     'weekday_is_monday','weekday_is_tuesday','weekday_is_wednesday','weekday_is_thursday','weekday_is_friday','weekday_is_saturday','weekday_is_sunday','global_rate_positive_words','global_rate_negative_words',\n",
    "     'LDA_00','LDA_01','LDA_02','LDA_03','LDA_04']]\n",
    "y = df['popularity']\n",
    "X_train, X_test, y_train, y_test = train_test_split(X,y, test_size = 0.3, random_state = 0)\n",
    "supportVectorMachine = svm.LinearSVC()\n",
    "svmModel = supportVectorMachine.fit(X_train, y_train)\n",
    "y_predict = supportVectorMachine.predict(X_test)\n",
    "result = confusion_matrix(y_test, y_predict)\n",
    "print(\"Confusion Matrix:\")\n",
    "print(result)\n",
    "result1 = classification_report(y_test, y_predict)\n",
    "print(\"Classification Report:\",)\n",
    "print (result1)\n",
    "result2 = accuracy_score(y_test,y_predict)\n",
    "print(\"Accuracy:\",result2)\n"
   ]
  },
  {
   "cell_type": "code",
   "execution_count": 69,
   "metadata": {},
   "outputs": [
    {
     "name": "stdout",
     "output_type": "stream",
     "text": [
      "Confusion Matrix:\n",
      "[[5131  454]\n",
      " [5542  767]]\n",
      "Classification Report:\n",
      "              precision    recall  f1-score   support\n",
      "\n",
      "           0       0.48      0.92      0.63      5585\n",
      "           1       0.63      0.12      0.20      6309\n",
      "\n",
      "    accuracy                           0.50     11894\n",
      "   macro avg       0.55      0.52      0.42     11894\n",
      "weighted avg       0.56      0.50      0.40     11894\n",
      "\n",
      "Accuracy: 0.49588027576929544\n"
     ]
    },
    {
     "name": "stderr",
     "output_type": "stream",
     "text": [
      "C:\\Users\\Mahta\\Anaconda3\\lib\\site-packages\\sklearn\\svm\\_base.py:947: ConvergenceWarning: Liblinear failed to converge, increase the number of iterations.\n",
      "  \"the number of iterations.\", ConvergenceWarning)\n"
     ]
    }
   ],
   "source": [
    "X=df[['kw_avg_avg','LDA_03','kw_max_avg','kw_min_avg','num_hrefs','kw_avg_max','global_subjectivity','abs_title_sentiment_polarity','weekday_is_sunday','title_subjectivity']]\n",
    "y = df['popularity']\n",
    "X_train, X_test, y_train, y_test = train_test_split(X,y, test_size = 0.3, random_state = 0)\n",
    "supportVectorMachine = svm.LinearSVC()\n",
    "svmModel = supportVectorMachine.fit(X_train, y_train)\n",
    "y_predict = supportVectorMachine.predict(X_test)\n",
    "result = confusion_matrix(y_test, y_predict)\n",
    "print(\"Confusion Matrix:\")\n",
    "print(result)\n",
    "result1 = classification_report(y_test, y_predict)\n",
    "print(\"Classification Report:\",)\n",
    "print (result1)\n",
    "result2 = accuracy_score(y_test,y_predict)\n",
    "print(\"Accuracy:\",result2)"
   ]
  },
  {
   "cell_type": "code",
   "execution_count": 75,
   "metadata": {},
   "outputs": [
    {
     "name": "stdout",
     "output_type": "stream",
     "text": [
      "Confusion Matrix:\n",
      "[[  48 5537]\n",
      " [  61 6248]]\n",
      "Classification Report:\n",
      "              precision    recall  f1-score   support\n",
      "\n",
      "           0       0.44      0.01      0.02      5585\n",
      "           1       0.53      0.99      0.69      6309\n",
      "\n",
      "    accuracy                           0.53     11894\n",
      "   macro avg       0.49      0.50      0.35     11894\n",
      "weighted avg       0.49      0.53      0.37     11894\n",
      "\n",
      "Accuracy: 0.5293425256431814\n"
     ]
    },
    {
     "name": "stderr",
     "output_type": "stream",
     "text": [
      "C:\\Users\\Mahta\\Anaconda3\\lib\\site-packages\\sklearn\\svm\\_base.py:947: ConvergenceWarning: Liblinear failed to converge, increase the number of iterations.\n",
      "  \"the number of iterations.\", ConvergenceWarning)\n"
     ]
    }
   ],
   "source": [
    "X=df[['kw_avg_avg','LDA_03','kw_max_avg','kw_min_avg','num_hrefs','kw_avg_max','global_subjectivity','abs_title_sentiment_polarity','weekday_is_sunday','title_subjectivity']]\n",
    "y = df['popularity']\n",
    "X_train, X_test, y_train, y_test = train_test_split(X,y, test_size = 0.3, random_state = 0)\n",
    "supportVectorMachine = svm.LinearSVC(C=3)\n",
    "svmModel = supportVectorMachine.fit(X_train, y_train)\n",
    "y_predict = supportVectorMachine.predict(X_test)\n",
    "result = confusion_matrix(y_test, y_predict)\n",
    "print(\"Confusion Matrix:\")\n",
    "print(result)\n",
    "result1 = classification_report(y_test, y_predict)\n",
    "print(\"Classification Report:\",)\n",
    "print (result1)\n",
    "result2 = accuracy_score(y_test,y_predict)\n",
    "print(\"Accuracy:\",result2)"
   ]
  },
  {
   "cell_type": "code",
   "execution_count": 80,
   "metadata": {},
   "outputs": [
    {
     "name": "stdout",
     "output_type": "stream",
     "text": [
      "Confusion Matrix:\n",
      "[[5493   92]\n",
      " [6165  144]]\n",
      "Classification Report:\n",
      "              precision    recall  f1-score   support\n",
      "\n",
      "           0       0.47      0.98      0.64      5585\n",
      "           1       0.61      0.02      0.04      6309\n",
      "\n",
      "    accuracy                           0.47     11894\n",
      "   macro avg       0.54      0.50      0.34     11894\n",
      "weighted avg       0.54      0.47      0.32     11894\n",
      "\n",
      "Accuracy: 0.47393643854044054\n"
     ]
    },
    {
     "name": "stderr",
     "output_type": "stream",
     "text": [
      "C:\\Users\\Mahta\\Anaconda3\\lib\\site-packages\\sklearn\\svm\\_base.py:947: ConvergenceWarning: Liblinear failed to converge, increase the number of iterations.\n",
      "  \"the number of iterations.\", ConvergenceWarning)\n"
     ]
    }
   ],
   "source": [
    "X=df[['kw_avg_avg','LDA_03','kw_max_avg','kw_min_avg','num_hrefs','kw_avg_max','global_subjectivity','abs_title_sentiment_polarity','weekday_is_sunday','title_subjectivity']]\n",
    "y = df['popularity']\n",
    "X_train, X_test, y_train, y_test = train_test_split(X,y, test_size = 0.3, random_state = 0)\n",
    "supportVectorMachine = svm.LinearSVC(C=4)\n",
    "svmModel = supportVectorMachine.fit(X_train, y_train)\n",
    "y_predict = supportVectorMachine.predict(X_test)\n",
    "result = confusion_matrix(y_test, y_predict)\n",
    "print(\"Confusion Matrix:\")\n",
    "print(result)\n",
    "result1 = classification_report(y_test, y_predict)\n",
    "print(\"Classification Report:\",)\n",
    "print (result1)\n",
    "result2 = accuracy_score(y_test,y_predict)\n",
    "print(\"Accuracy:\",result2)"
   ]
  },
  {
   "cell_type": "code",
   "execution_count": null,
   "metadata": {},
   "outputs": [],
   "source": []
  }
 ],
 "metadata": {
  "kernelspec": {
   "display_name": "Python 3",
   "language": "python",
   "name": "python3"
  },
  "language_info": {
   "codemirror_mode": {
    "name": "ipython",
    "version": 3
   },
   "file_extension": ".py",
   "mimetype": "text/x-python",
   "name": "python",
   "nbconvert_exporter": "python",
   "pygments_lexer": "ipython3",
   "version": "3.7.7"
  }
 },
 "nbformat": 4,
 "nbformat_minor": 4
}
